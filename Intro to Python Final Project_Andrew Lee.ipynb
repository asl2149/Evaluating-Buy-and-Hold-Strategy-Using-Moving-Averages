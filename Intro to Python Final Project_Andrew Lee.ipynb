{
 "cells": [
  {
   "cell_type": "markdown",
   "id": "6a660abf",
   "metadata": {},
   "source": [
    "# Final Project: Tesla"
   ]
  },
  {
   "cell_type": "code",
   "execution_count": 1,
   "id": "233a4881",
   "metadata": {},
   "outputs": [
    {
     "name": "stdout",
     "output_type": "stream",
     "text": [
      "Requirement already satisfied: alpha_vantage in /Users/andrewlee/opt/anaconda3/lib/python3.8/site-packages (2.3.1)\n",
      "Requirement already satisfied: requests in /Users/andrewlee/opt/anaconda3/lib/python3.8/site-packages (from alpha_vantage) (2.25.1)\n",
      "Requirement already satisfied: aiohttp in /Users/andrewlee/opt/anaconda3/lib/python3.8/site-packages (from alpha_vantage) (3.7.4.post0)\n",
      "Requirement already satisfied: async-timeout<4.0,>=3.0 in /Users/andrewlee/opt/anaconda3/lib/python3.8/site-packages (from aiohttp->alpha_vantage) (3.0.1)\n",
      "Requirement already satisfied: multidict<7.0,>=4.5 in /Users/andrewlee/opt/anaconda3/lib/python3.8/site-packages (from aiohttp->alpha_vantage) (5.2.0)\n",
      "Requirement already satisfied: typing-extensions>=3.6.5 in /Users/andrewlee/opt/anaconda3/lib/python3.8/site-packages (from aiohttp->alpha_vantage) (3.7.4.3)\n",
      "Requirement already satisfied: chardet<5.0,>=2.0 in /Users/andrewlee/opt/anaconda3/lib/python3.8/site-packages (from aiohttp->alpha_vantage) (4.0.0)\n",
      "Requirement already satisfied: yarl<2.0,>=1.0 in /Users/andrewlee/opt/anaconda3/lib/python3.8/site-packages (from aiohttp->alpha_vantage) (1.6.3)\n",
      "Requirement already satisfied: attrs>=17.3.0 in /Users/andrewlee/opt/anaconda3/lib/python3.8/site-packages (from aiohttp->alpha_vantage) (20.3.0)\n",
      "Requirement already satisfied: idna>=2.0 in /Users/andrewlee/opt/anaconda3/lib/python3.8/site-packages (from yarl<2.0,>=1.0->aiohttp->alpha_vantage) (2.10)\n",
      "Requirement already satisfied: certifi>=2017.4.17 in /Users/andrewlee/opt/anaconda3/lib/python3.8/site-packages (from requests->alpha_vantage) (2020.12.5)\n",
      "Requirement already satisfied: urllib3<1.27,>=1.21.1 in /Users/andrewlee/opt/anaconda3/lib/python3.8/site-packages (from requests->alpha_vantage) (1.26.4)\n",
      "Note: you may need to restart the kernel to use updated packages.\n"
     ]
    }
   ],
   "source": [
    "pip install alpha_vantage"
   ]
  },
  {
   "cell_type": "code",
   "execution_count": 2,
   "id": "cec8891e",
   "metadata": {},
   "outputs": [],
   "source": [
    "import pandas as pd\n",
    "%matplotlib inline\n",
    "import seaborn as sns\n",
    "from alpha_vantage.timeseries import TimeSeries"
   ]
  },
  {
   "cell_type": "code",
   "execution_count": 3,
   "id": "d5885a7b",
   "metadata": {},
   "outputs": [],
   "source": [
    "with open('alphavantage_api_key.txt') as file:\n",
    "    alphavantage_api_key = file.read() "
   ]
  },
  {
   "cell_type": "code",
   "execution_count": 4,
   "id": "befdbc85",
   "metadata": {},
   "outputs": [],
   "source": [
    "ts = TimeSeries(key=alphavantage_api_key, output_format='pandas')\n",
    "df_tesla, meta_data = ts.get_daily_adjusted('TSLA', outputsize='full')"
   ]
  },
  {
   "cell_type": "markdown",
   "id": "d4308734",
   "metadata": {},
   "source": [
    "## Downloading historical data and cleaning up, leaving only \"adjusted close\" which we will rename as \"close\" price. During our most recent assignment, we were told to use adjusted close price as the more accurate measure of a stock's price. For this final project, I am making the same assumption and using adjusted close price of Tesla's stock."
   ]
  },
  {
   "cell_type": "code",
   "execution_count": 5,
   "id": "cce91575",
   "metadata": {},
   "outputs": [
    {
     "data": {
      "text/html": [
       "<div>\n",
       "<style scoped>\n",
       "    .dataframe tbody tr th:only-of-type {\n",
       "        vertical-align: middle;\n",
       "    }\n",
       "\n",
       "    .dataframe tbody tr th {\n",
       "        vertical-align: top;\n",
       "    }\n",
       "\n",
       "    .dataframe thead th {\n",
       "        text-align: right;\n",
       "    }\n",
       "</style>\n",
       "<table border=\"1\" class=\"dataframe\">\n",
       "  <thead>\n",
       "    <tr style=\"text-align: right;\">\n",
       "      <th></th>\n",
       "      <th>1. open</th>\n",
       "      <th>2. high</th>\n",
       "      <th>3. low</th>\n",
       "      <th>4. close</th>\n",
       "      <th>5. adjusted close</th>\n",
       "      <th>6. volume</th>\n",
       "      <th>7. dividend amount</th>\n",
       "      <th>8. split coefficient</th>\n",
       "    </tr>\n",
       "    <tr>\n",
       "      <th>date</th>\n",
       "      <th></th>\n",
       "      <th></th>\n",
       "      <th></th>\n",
       "      <th></th>\n",
       "      <th></th>\n",
       "      <th></th>\n",
       "      <th></th>\n",
       "      <th></th>\n",
       "    </tr>\n",
       "  </thead>\n",
       "  <tbody>\n",
       "    <tr>\n",
       "      <th>2021-10-19</th>\n",
       "      <td>877.5300</td>\n",
       "      <td>877.9500</td>\n",
       "      <td>862.5100</td>\n",
       "      <td>864.27</td>\n",
       "      <td>864.270</td>\n",
       "      <td>17381128.0</td>\n",
       "      <td>0.0</td>\n",
       "      <td>1.0</td>\n",
       "    </tr>\n",
       "    <tr>\n",
       "      <th>2021-10-18</th>\n",
       "      <td>851.7900</td>\n",
       "      <td>875.2600</td>\n",
       "      <td>851.4700</td>\n",
       "      <td>870.11</td>\n",
       "      <td>870.110</td>\n",
       "      <td>24207244.0</td>\n",
       "      <td>0.0</td>\n",
       "      <td>1.0</td>\n",
       "    </tr>\n",
       "    <tr>\n",
       "      <th>2021-10-15</th>\n",
       "      <td>823.7384</td>\n",
       "      <td>843.2100</td>\n",
       "      <td>822.3500</td>\n",
       "      <td>843.03</td>\n",
       "      <td>843.030</td>\n",
       "      <td>18924567.0</td>\n",
       "      <td>0.0</td>\n",
       "      <td>1.0</td>\n",
       "    </tr>\n",
       "    <tr>\n",
       "      <th>2021-10-14</th>\n",
       "      <td>815.4900</td>\n",
       "      <td>820.2500</td>\n",
       "      <td>813.3501</td>\n",
       "      <td>818.32</td>\n",
       "      <td>818.320</td>\n",
       "      <td>12247170.0</td>\n",
       "      <td>0.0</td>\n",
       "      <td>1.0</td>\n",
       "    </tr>\n",
       "    <tr>\n",
       "      <th>2021-10-13</th>\n",
       "      <td>810.4700</td>\n",
       "      <td>815.4100</td>\n",
       "      <td>805.7800</td>\n",
       "      <td>811.08</td>\n",
       "      <td>811.080</td>\n",
       "      <td>14120075.0</td>\n",
       "      <td>0.0</td>\n",
       "      <td>1.0</td>\n",
       "    </tr>\n",
       "    <tr>\n",
       "      <th>...</th>\n",
       "      <td>...</td>\n",
       "      <td>...</td>\n",
       "      <td>...</td>\n",
       "      <td>...</td>\n",
       "      <td>...</td>\n",
       "      <td>...</td>\n",
       "      <td>...</td>\n",
       "      <td>...</td>\n",
       "    </tr>\n",
       "    <tr>\n",
       "      <th>2010-07-06</th>\n",
       "      <td>20.0000</td>\n",
       "      <td>20.0000</td>\n",
       "      <td>15.8300</td>\n",
       "      <td>16.11</td>\n",
       "      <td>3.222</td>\n",
       "      <td>6866900.0</td>\n",
       "      <td>0.0</td>\n",
       "      <td>1.0</td>\n",
       "    </tr>\n",
       "    <tr>\n",
       "      <th>2010-07-02</th>\n",
       "      <td>23.0000</td>\n",
       "      <td>23.1000</td>\n",
       "      <td>18.7100</td>\n",
       "      <td>19.20</td>\n",
       "      <td>3.840</td>\n",
       "      <td>5139800.0</td>\n",
       "      <td>0.0</td>\n",
       "      <td>1.0</td>\n",
       "    </tr>\n",
       "    <tr>\n",
       "      <th>2010-07-01</th>\n",
       "      <td>25.0000</td>\n",
       "      <td>25.9200</td>\n",
       "      <td>20.2700</td>\n",
       "      <td>21.96</td>\n",
       "      <td>4.392</td>\n",
       "      <td>8218800.0</td>\n",
       "      <td>0.0</td>\n",
       "      <td>1.0</td>\n",
       "    </tr>\n",
       "    <tr>\n",
       "      <th>2010-06-30</th>\n",
       "      <td>25.7900</td>\n",
       "      <td>30.4192</td>\n",
       "      <td>23.3000</td>\n",
       "      <td>23.83</td>\n",
       "      <td>4.766</td>\n",
       "      <td>17187100.0</td>\n",
       "      <td>0.0</td>\n",
       "      <td>1.0</td>\n",
       "    </tr>\n",
       "    <tr>\n",
       "      <th>2010-06-29</th>\n",
       "      <td>19.0000</td>\n",
       "      <td>25.0000</td>\n",
       "      <td>17.5400</td>\n",
       "      <td>23.89</td>\n",
       "      <td>4.778</td>\n",
       "      <td>18766300.0</td>\n",
       "      <td>0.0</td>\n",
       "      <td>1.0</td>\n",
       "    </tr>\n",
       "  </tbody>\n",
       "</table>\n",
       "<p>2848 rows × 8 columns</p>\n",
       "</div>"
      ],
      "text/plain": [
       "             1. open   2. high    3. low  4. close  5. adjusted close  \\\n",
       "date                                                                    \n",
       "2021-10-19  877.5300  877.9500  862.5100    864.27            864.270   \n",
       "2021-10-18  851.7900  875.2600  851.4700    870.11            870.110   \n",
       "2021-10-15  823.7384  843.2100  822.3500    843.03            843.030   \n",
       "2021-10-14  815.4900  820.2500  813.3501    818.32            818.320   \n",
       "2021-10-13  810.4700  815.4100  805.7800    811.08            811.080   \n",
       "...              ...       ...       ...       ...                ...   \n",
       "2010-07-06   20.0000   20.0000   15.8300     16.11              3.222   \n",
       "2010-07-02   23.0000   23.1000   18.7100     19.20              3.840   \n",
       "2010-07-01   25.0000   25.9200   20.2700     21.96              4.392   \n",
       "2010-06-30   25.7900   30.4192   23.3000     23.83              4.766   \n",
       "2010-06-29   19.0000   25.0000   17.5400     23.89              4.778   \n",
       "\n",
       "             6. volume  7. dividend amount  8. split coefficient  \n",
       "date                                                              \n",
       "2021-10-19  17381128.0                 0.0                   1.0  \n",
       "2021-10-18  24207244.0                 0.0                   1.0  \n",
       "2021-10-15  18924567.0                 0.0                   1.0  \n",
       "2021-10-14  12247170.0                 0.0                   1.0  \n",
       "2021-10-13  14120075.0                 0.0                   1.0  \n",
       "...                ...                 ...                   ...  \n",
       "2010-07-06   6866900.0                 0.0                   1.0  \n",
       "2010-07-02   5139800.0                 0.0                   1.0  \n",
       "2010-07-01   8218800.0                 0.0                   1.0  \n",
       "2010-06-30  17187100.0                 0.0                   1.0  \n",
       "2010-06-29  18766300.0                 0.0                   1.0  \n",
       "\n",
       "[2848 rows x 8 columns]"
      ]
     },
     "execution_count": 5,
     "metadata": {},
     "output_type": "execute_result"
    }
   ],
   "source": [
    "df_tesla"
   ]
  },
  {
   "cell_type": "code",
   "execution_count": 6,
   "id": "8beb3077",
   "metadata": {},
   "outputs": [],
   "source": [
    "df_tesla.drop(columns=['1. open','2. high','3. low','4. close', '6. volume', '7. dividend amount', '8. split coefficient'], inplace=True)"
   ]
  },
  {
   "cell_type": "code",
   "execution_count": 7,
   "id": "7c8a1b26",
   "metadata": {},
   "outputs": [],
   "source": [
    "df_tesla.rename(columns={'5. adjusted close': 'close'}, inplace=True) "
   ]
  },
  {
   "cell_type": "code",
   "execution_count": 8,
   "id": "52403d68",
   "metadata": {},
   "outputs": [],
   "source": [
    "df_tesla.sort_values('date', inplace=True)"
   ]
  },
  {
   "cell_type": "code",
   "execution_count": 9,
   "id": "1dc4381b",
   "metadata": {
    "scrolled": true
   },
   "outputs": [
    {
     "data": {
      "text/plain": [
       "<AxesSubplot:xlabel='date'>"
      ]
     },
     "execution_count": 9,
     "metadata": {},
     "output_type": "execute_result"
    },
    {
     "data": {
      "image/png": "[encoded data removed]",
      "text/plain": [
       "<Figure size 432x288 with 1 Axes>"
      ]
     },
     "metadata": {
      "needs_background": "light"
     },
     "output_type": "display_data"
    }
   ],
   "source": [
    "df_tesla.plot()"
   ]
  },
  {
   "cell_type": "markdown",
   "id": "bbe6f50a",
   "metadata": {},
   "source": [
    "## Creating a 'pct_change' column to record daily percent change of Tesla's stock "
   ]
  },
  {
   "cell_type": "code",
   "execution_count": 10,
   "id": "5cf4dec5",
   "metadata": {},
   "outputs": [],
   "source": [
    "df_tesla['pct_change'] = df_tesla['close'].pct_change()"
   ]
  },
  {
   "cell_type": "code",
   "execution_count": 11,
   "id": "3badb74c",
   "metadata": {},
   "outputs": [
    {
     "data": {
      "text/html": [
       "<div>\n",
       "<style scoped>\n",
       "    .dataframe tbody tr th:only-of-type {\n",
       "        vertical-align: middle;\n",
       "    }\n",
       "\n",
       "    .dataframe tbody tr th {\n",
       "        vertical-align: top;\n",
       "    }\n",
       "\n",
       "    .dataframe thead th {\n",
       "        text-align: right;\n",
       "    }\n",
       "</style>\n",
       "<table border=\"1\" class=\"dataframe\">\n",
       "  <thead>\n",
       "    <tr style=\"text-align: right;\">\n",
       "      <th></th>\n",
       "      <th>close</th>\n",
       "      <th>pct_change</th>\n",
       "    </tr>\n",
       "    <tr>\n",
       "      <th>date</th>\n",
       "      <th></th>\n",
       "      <th></th>\n",
       "    </tr>\n",
       "  </thead>\n",
       "  <tbody>\n",
       "    <tr>\n",
       "      <th>2010-06-29</th>\n",
       "      <td>4.778</td>\n",
       "      <td>NaN</td>\n",
       "    </tr>\n",
       "    <tr>\n",
       "      <th>2010-06-30</th>\n",
       "      <td>4.766</td>\n",
       "      <td>-0.002512</td>\n",
       "    </tr>\n",
       "    <tr>\n",
       "      <th>2010-07-01</th>\n",
       "      <td>4.392</td>\n",
       "      <td>-0.078473</td>\n",
       "    </tr>\n",
       "    <tr>\n",
       "      <th>2010-07-02</th>\n",
       "      <td>3.840</td>\n",
       "      <td>-0.125683</td>\n",
       "    </tr>\n",
       "    <tr>\n",
       "      <th>2010-07-06</th>\n",
       "      <td>3.222</td>\n",
       "      <td>-0.160937</td>\n",
       "    </tr>\n",
       "    <tr>\n",
       "      <th>...</th>\n",
       "      <td>...</td>\n",
       "      <td>...</td>\n",
       "    </tr>\n",
       "    <tr>\n",
       "      <th>2021-10-13</th>\n",
       "      <td>811.080</td>\n",
       "      <td>0.006652</td>\n",
       "    </tr>\n",
       "    <tr>\n",
       "      <th>2021-10-14</th>\n",
       "      <td>818.320</td>\n",
       "      <td>0.008926</td>\n",
       "    </tr>\n",
       "    <tr>\n",
       "      <th>2021-10-15</th>\n",
       "      <td>843.030</td>\n",
       "      <td>0.030196</td>\n",
       "    </tr>\n",
       "    <tr>\n",
       "      <th>2021-10-18</th>\n",
       "      <td>870.110</td>\n",
       "      <td>0.032122</td>\n",
       "    </tr>\n",
       "    <tr>\n",
       "      <th>2021-10-19</th>\n",
       "      <td>864.270</td>\n",
       "      <td>-0.006712</td>\n",
       "    </tr>\n",
       "  </tbody>\n",
       "</table>\n",
       "<p>2848 rows × 2 columns</p>\n",
       "</div>"
      ],
      "text/plain": [
       "              close  pct_change\n",
       "date                           \n",
       "2010-06-29    4.778         NaN\n",
       "2010-06-30    4.766   -0.002512\n",
       "2010-07-01    4.392   -0.078473\n",
       "2010-07-02    3.840   -0.125683\n",
       "2010-07-06    3.222   -0.160937\n",
       "...             ...         ...\n",
       "2021-10-13  811.080    0.006652\n",
       "2021-10-14  818.320    0.008926\n",
       "2021-10-15  843.030    0.030196\n",
       "2021-10-18  870.110    0.032122\n",
       "2021-10-19  864.270   -0.006712\n",
       "\n",
       "[2848 rows x 2 columns]"
      ]
     },
     "execution_count": 11,
     "metadata": {},
     "output_type": "execute_result"
    }
   ],
   "source": [
    "df_tesla"
   ]
  },
  {
   "cell_type": "markdown",
   "id": "8f9fa381",
   "metadata": {},
   "source": [
    "## Creating an 'original_cumulative_return' column to record cumulative return if we had bought the stock on the first day and kept it untouched. This will serve as our benchmark once we get our own cumulative return"
   ]
  },
  {
   "cell_type": "code",
   "execution_count": 12,
   "id": "933f7338",
   "metadata": {},
   "outputs": [],
   "source": [
    "df_tesla['original_cumulative_return'] = (df_tesla['pct_change'] + 1).cumprod()"
   ]
  },
  {
   "cell_type": "markdown",
   "id": "dec337de",
   "metadata": {},
   "source": [
    "## Creating two other important benchmarks: short and long moving averages. The short will be a 30-day simple moving average while the long will be for 200 days. Comparing the closing price to one simple moving average carries high risk. To mitigate this risk, we want to create short and long moving averages to identify more conservative \"buying\" opportunities. "
   ]
  },
  {
   "cell_type": "code",
   "execution_count": 13,
   "id": "2017017f",
   "metadata": {},
   "outputs": [],
   "source": [
    "df_tesla['short_moving_average']=df_tesla['close'].rolling(window=30).mean()"
   ]
  },
  {
   "cell_type": "code",
   "execution_count": 14,
   "id": "fc34390e",
   "metadata": {},
   "outputs": [],
   "source": [
    "df_tesla['long_moving_average']=df_tesla['close'].rolling(window=200).mean()"
   ]
  },
  {
   "cell_type": "markdown",
   "id": "3664a48b",
   "metadata": {},
   "source": [
    "## Creating a function to record daily percent change of our stock price when we decide to buy (take a \"long\" position). If the short moving average from the previous day is lower than the long moving average (also from the previous day), the stock is undervalued and we buy the stock the following day (reason for looking at moving averages for the prior day is that those moving averages are based on the close price, when we are unable to purchase the stock. Therefore, the earliest time we can buy the stock is at the beginning of next day). This is a more conservative method relative to that comparing a moving average directly to a closing price."
   ]
  },
  {
   "cell_type": "code",
   "execution_count": 15,
   "id": "fd724c7a",
   "metadata": {},
   "outputs": [],
   "source": [
    "def daily_return(row):\n",
    "    if (row-1)['short_moving_average'] < (row-1)['long_moving_average']:\n",
    "        return (row)['pct_change']\n",
    "    else:\n",
    "        return 0"
   ]
  },
  {
   "cell_type": "markdown",
   "id": "ce57f5c3",
   "metadata": {},
   "source": [
    "## We apply the above function to our dataframe so that we get a daily return whenever we take a long position. On days we don't take a long position, our daily return will be 0 as per the function defined above"
   ]
  },
  {
   "cell_type": "code",
   "execution_count": 16,
   "id": "6ca95aba",
   "metadata": {},
   "outputs": [],
   "source": [
    "df_tesla['daily_return']=df_tesla.apply(daily_return, axis=1)"
   ]
  },
  {
   "cell_type": "markdown",
   "id": "e96969fc",
   "metadata": {},
   "source": [
    "## We calculate the cumulative return using all daily returns based on our long position using the equation provided on Canvas."
   ]
  },
  {
   "cell_type": "code",
   "execution_count": 17,
   "id": "82e13f9f",
   "metadata": {},
   "outputs": [],
   "source": [
    "df_tesla['my_cumulative_return']=(df_tesla['daily_return']+1).cumprod()"
   ]
  },
  {
   "cell_type": "markdown",
   "id": "7740da18",
   "metadata": {},
   "source": [
    "## Our model yields a 3.89x return on our investment using two moving averages to determine long positions. This is lower than the original cumulative return of ~180x (if we bought the stock on day one and left it untouched), but is still an impressive result. This may be because we are taking a more conservative long position (only when short moving average < long moving average, rather than comparing either of them directly to closing price). There seems to be a trade-off between risks (more/less conservative) vs. returns (higher/lower teturns)."
   ]
  },
  {
   "cell_type": "code",
   "execution_count": 20,
   "id": "458a7e0f",
   "metadata": {},
   "outputs": [
    {
     "data": {
      "text/html": [
       "<div>\n",
       "<style scoped>\n",
       "    .dataframe tbody tr th:only-of-type {\n",
       "        vertical-align: middle;\n",
       "    }\n",
       "\n",
       "    .dataframe tbody tr th {\n",
       "        vertical-align: top;\n",
       "    }\n",
       "\n",
       "    .dataframe thead th {\n",
       "        text-align: right;\n",
       "    }\n",
       "</style>\n",
       "<table border=\"1\" class=\"dataframe\">\n",
       "  <thead>\n",
       "    <tr style=\"text-align: right;\">\n",
       "      <th></th>\n",
       "      <th>close</th>\n",
       "      <th>pct_change</th>\n",
       "      <th>original_cumulative_return</th>\n",
       "      <th>short_moving_average</th>\n",
       "      <th>long_moving_average</th>\n",
       "      <th>daily_return</th>\n",
       "      <th>my_cumulative_return</th>\n",
       "    </tr>\n",
       "    <tr>\n",
       "      <th>date</th>\n",
       "      <th></th>\n",
       "      <th></th>\n",
       "      <th></th>\n",
       "      <th></th>\n",
       "      <th></th>\n",
       "      <th></th>\n",
       "      <th></th>\n",
       "    </tr>\n",
       "  </thead>\n",
       "  <tbody>\n",
       "    <tr>\n",
       "      <th>2010-06-29</th>\n",
       "      <td>4.778</td>\n",
       "      <td>NaN</td>\n",
       "      <td>NaN</td>\n",
       "      <td>NaN</td>\n",
       "      <td>NaN</td>\n",
       "      <td>0.0</td>\n",
       "      <td>1.000000</td>\n",
       "    </tr>\n",
       "    <tr>\n",
       "      <th>2010-06-30</th>\n",
       "      <td>4.766</td>\n",
       "      <td>-0.002512</td>\n",
       "      <td>0.997488</td>\n",
       "      <td>NaN</td>\n",
       "      <td>NaN</td>\n",
       "      <td>0.0</td>\n",
       "      <td>1.000000</td>\n",
       "    </tr>\n",
       "    <tr>\n",
       "      <th>2010-07-01</th>\n",
       "      <td>4.392</td>\n",
       "      <td>-0.078473</td>\n",
       "      <td>0.919213</td>\n",
       "      <td>NaN</td>\n",
       "      <td>NaN</td>\n",
       "      <td>0.0</td>\n",
       "      <td>1.000000</td>\n",
       "    </tr>\n",
       "    <tr>\n",
       "      <th>2010-07-02</th>\n",
       "      <td>3.840</td>\n",
       "      <td>-0.125683</td>\n",
       "      <td>0.803684</td>\n",
       "      <td>NaN</td>\n",
       "      <td>NaN</td>\n",
       "      <td>0.0</td>\n",
       "      <td>1.000000</td>\n",
       "    </tr>\n",
       "    <tr>\n",
       "      <th>2010-07-06</th>\n",
       "      <td>3.222</td>\n",
       "      <td>-0.160937</td>\n",
       "      <td>0.674341</td>\n",
       "      <td>NaN</td>\n",
       "      <td>NaN</td>\n",
       "      <td>0.0</td>\n",
       "      <td>1.000000</td>\n",
       "    </tr>\n",
       "    <tr>\n",
       "      <th>...</th>\n",
       "      <td>...</td>\n",
       "      <td>...</td>\n",
       "      <td>...</td>\n",
       "      <td>...</td>\n",
       "      <td>...</td>\n",
       "      <td>...</td>\n",
       "      <td>...</td>\n",
       "    </tr>\n",
       "    <tr>\n",
       "      <th>2021-10-13</th>\n",
       "      <td>811.080</td>\n",
       "      <td>0.006652</td>\n",
       "      <td>169.753035</td>\n",
       "      <td>764.697667</td>\n",
       "      <td>706.69080</td>\n",
       "      <td>0.0</td>\n",
       "      <td>3.888113</td>\n",
       "    </tr>\n",
       "    <tr>\n",
       "      <th>2021-10-14</th>\n",
       "      <td>818.320</td>\n",
       "      <td>0.008926</td>\n",
       "      <td>171.268313</td>\n",
       "      <td>767.505333</td>\n",
       "      <td>707.45245</td>\n",
       "      <td>0.0</td>\n",
       "      <td>3.888113</td>\n",
       "    </tr>\n",
       "    <tr>\n",
       "      <th>2021-10-15</th>\n",
       "      <td>843.030</td>\n",
       "      <td>0.030196</td>\n",
       "      <td>176.439933</td>\n",
       "      <td>771.193333</td>\n",
       "      <td>708.19370</td>\n",
       "      <td>0.0</td>\n",
       "      <td>3.888113</td>\n",
       "    </tr>\n",
       "    <tr>\n",
       "      <th>2021-10-18</th>\n",
       "      <td>870.110</td>\n",
       "      <td>0.032122</td>\n",
       "      <td>182.107576</td>\n",
       "      <td>775.744667</td>\n",
       "      <td>709.01590</td>\n",
       "      <td>0.0</td>\n",
       "      <td>3.888113</td>\n",
       "    </tr>\n",
       "    <tr>\n",
       "      <th>2021-10-19</th>\n",
       "      <td>864.270</td>\n",
       "      <td>-0.006712</td>\n",
       "      <td>180.885308</td>\n",
       "      <td>779.456333</td>\n",
       "      <td>709.68840</td>\n",
       "      <td>0.0</td>\n",
       "      <td>3.888113</td>\n",
       "    </tr>\n",
       "  </tbody>\n",
       "</table>\n",
       "<p>2848 rows × 7 columns</p>\n",
       "</div>"
      ],
      "text/plain": [
       "              close  pct_change  original_cumulative_return  \\\n",
       "date                                                          \n",
       "2010-06-29    4.778         NaN                         NaN   \n",
       "2010-06-30    4.766   -0.002512                    0.997488   \n",
       "2010-07-01    4.392   -0.078473                    0.919213   \n",
       "2010-07-02    3.840   -0.125683                    0.803684   \n",
       "2010-07-06    3.222   -0.160937                    0.674341   \n",
       "...             ...         ...                         ...   \n",
       "2021-10-13  811.080    0.006652                  169.753035   \n",
       "2021-10-14  818.320    0.008926                  171.268313   \n",
       "2021-10-15  843.030    0.030196                  176.439933   \n",
       "2021-10-18  870.110    0.032122                  182.107576   \n",
       "2021-10-19  864.270   -0.006712                  180.885308   \n",
       "\n",
       "            short_moving_average  long_moving_average  daily_return  \\\n",
       "date                                                                  \n",
       "2010-06-29                   NaN                  NaN           0.0   \n",
       "2010-06-30                   NaN                  NaN           0.0   \n",
       "2010-07-01                   NaN                  NaN           0.0   \n",
       "2010-07-02                   NaN                  NaN           0.0   \n",
       "2010-07-06                   NaN                  NaN           0.0   \n",
       "...                          ...                  ...           ...   \n",
       "2021-10-13            764.697667            706.69080           0.0   \n",
       "2021-10-14            767.505333            707.45245           0.0   \n",
       "2021-10-15            771.193333            708.19370           0.0   \n",
       "2021-10-18            775.744667            709.01590           0.0   \n",
       "2021-10-19            779.456333            709.68840           0.0   \n",
       "\n",
       "            my_cumulative_return  \n",
       "date                              \n",
       "2010-06-29              1.000000  \n",
       "2010-06-30              1.000000  \n",
       "2010-07-01              1.000000  \n",
       "2010-07-02              1.000000  \n",
       "2010-07-06              1.000000  \n",
       "...                          ...  \n",
       "2021-10-13              3.888113  \n",
       "2021-10-14              3.888113  \n",
       "2021-10-15              3.888113  \n",
       "2021-10-18              3.888113  \n",
       "2021-10-19              3.888113  \n",
       "\n",
       "[2848 rows x 7 columns]"
      ]
     },
     "execution_count": 20,
     "metadata": {},
     "output_type": "execute_result"
    }
   ],
   "source": [
    "df_tesla"
   ]
  },
  {
   "cell_type": "code",
   "execution_count": 19,
   "id": "8e513a6e",
   "metadata": {},
   "outputs": [],
   "source": [
    "df_tesla.to_csv('final_project_asl2149.csv')"
   ]
  },
  {
   "cell_type": "code",
   "execution_count": null,
   "id": "2f01bcb6",
   "metadata": {},
   "outputs": [],
   "source": []
  }
 ],
 "metadata": {
  "kernelspec": {
   "display_name": "Python 3",
   "language": "python",
   "name": "python3"
  },
  "language_info": {
   "codemirror_mode": {
    "name": "ipython",
    "version": 3
   },
   "file_extension": ".py",
   "mimetype": "text/x-python",
   "name": "python",
   "nbconvert_exporter": "python",
   "pygments_lexer": "ipython3",
   "version": "3.8.8"
  }
 },
 "nbformat": 4,
 "nbformat_minor": 5
}
